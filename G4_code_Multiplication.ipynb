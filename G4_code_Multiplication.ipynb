{
 "cells": [
  {
   "cell_type": "code",
   "execution_count": 2,
   "metadata": {},
   "outputs": [
    {
     "data": {
      "application/vnd.jupyter.widget-view+json": {
       "model_id": "8d61c9387d96422487a3bb364f124140",
       "version_major": 2,
       "version_minor": 0
      },
      "text/plain": [
       "CircuitComposer(circuit=<qiskit.circuit.quantumcircuit.QuantumCircuit object at 0x7f36b47f5cc0>)"
      ]
     },
     "execution_count": 2,
     "metadata": {},
     "output_type": "execute_result"
    }
   ],
   "source": [
    "from ibm_quantum_widgets import CircuitComposer\n",
    "from qiskit import QuantumRegister, ClassicalRegister, QuantumCircuit\n",
    "from numpy import pi\n",
    "\n",
    "qreg_q0 = QuantumRegister(3, 'q0')\n",
    "creg_c0 = ClassicalRegister(1, 'c0')\n",
    "circuit = QuantumCircuit(qreg_q0, creg_c0)\n",
    "\n",
    "circuit.reset(qreg_q0[0])\n",
    "circuit.reset(qreg_q0[1])\n",
    "circuit.reset(qreg_q0[2])\n",
    "circuit.h(qreg_q0[0])\n",
    "circuit.h(qreg_q0[1])\n",
    "circuit.ccx(qreg_q0[0], qreg_q0[1], qreg_q0[2])\n",
    "circuit.measure(qreg_q0[2], creg_c0[0])\n",
    "\n",
    "\n",
    "editor = CircuitComposer(circuit=circuit)\n",
    "editor"
   ]
  },
  {
   "cell_type": "code",
   "execution_count": null,
   "metadata": {},
   "outputs": [],
   "source": [
    "# This code is being generated automatically by the IBM Quantum Circuit Composer widget.\n",
    "# It changes in every update of the widget, so any modifications done in this cell will be lost.\n",
    "# State: synchronized\n",
    "\n",
    "from qiskit import QuantumRegister, ClassicalRegister, QuantumCircuit\n",
    "from numpy import pi\n",
    "\n",
    "qreg_q0 = QuantumRegister(3, 'q0')\n",
    "creg_c0 = ClassicalRegister(1, 'c0')\n",
    "circuit = QuantumCircuit(qreg_q0, creg_c0)\n",
    "\n",
    "circuit.reset(qreg_q0[0])\n",
    "circuit.reset(qreg_q0[1])\n",
    "circuit.reset(qreg_q0[2])\n",
    "circuit.h(qreg_q0[0])\n",
    "circuit.h(qreg_q0[1])\n",
    "circuit.ccx(qreg_q0[0], qreg_q0[1], qreg_q0[2])\n",
    "circuit.measure(qreg_q0[2], creg_c0[0])"
   ]
  },
  {
   "cell_type": "code",
   "execution_count": null,
   "metadata": {},
   "outputs": [],
   "source": []
  },
  {
   "cell_type": "code",
   "execution_count": null,
   "metadata": {},
   "outputs": [],
   "source": []
  }
 ],
 "metadata": {
  "kernelspec": {
   "display_name": "Python 3 (ipykernel)",
   "language": "python",
   "name": "python3"
  },
  "language_info": {
   "codemirror_mode": {
    "name": "ipython",
    "version": 3
   },
   "file_extension": ".py",
   "mimetype": "text/x-python",
   "name": "python",
   "nbconvert_exporter": "python",
   "pygments_lexer": "ipython3",
   "version": "3.10.8"
  },
  "widgets": {
   "application/vnd.jupyter.widget-state+json": {
    "state": {
     "8d61c9387d96422487a3bb364f124140": {
      "model_module": "@quantum/lab-widgets",
      "model_module_version": "4.0.37",
      "model_name": "CircuitComposerModel",
      "state": {
       "circuit": "\"OPENQASM 2.0;\\ninclude \\\"qelib1.inc\\\";\\nqreg q0[3];\\ncreg c0[1];\\nreset q0[0];\\nreset q0[1];\\nreset q0[2];\\nh q0[0];\\nh q0[1];\\nccx q0[0],q0[1],q0[2];\\nmeasure q0[2] -> c0[0];\\n\"",
       "editable": true,
       "layout": "IPY_MODEL_cd896abf730b40538d58bf432b272cfb",
       "qiskit_code_cell_index": 1
      }
     },
     "c83c4b02bf664b4ca1a416413c1e69b3": {
      "model_module": "@quantum/lab-widgets",
      "model_module_version": "4.0.37",
      "model_name": "CircuitComposerModel",
      "state": {
       "circuit": "\"OPENQASM 2.0;\\ninclude \\\"qelib1.inc\\\";\\nqreg q0[3];\\ncreg c0[1];\\nreset q0[0];\\nreset q0[1];\\nreset q0[2];\\nh q0[0];\\nh q0[1];\\nccx q0[0],q0[1],q0[2];\\nmeasure q0[2] -> c0[0];\\n\"",
       "editable": true,
       "layout": "IPY_MODEL_fcf9e43e60044a4ba3420eb0ed06468e",
       "qiskit_code_cell_index": -1
      }
     },
     "cd896abf730b40538d58bf432b272cfb": {
      "model_module": "@jupyter-widgets/base",
      "model_module_version": "2.0.0",
      "model_name": "LayoutModel",
      "state": {}
     },
     "fcf9e43e60044a4ba3420eb0ed06468e": {
      "model_module": "@jupyter-widgets/base",
      "model_module_version": "2.0.0",
      "model_name": "LayoutModel",
      "state": {}
     }
    },
    "version_major": 2,
    "version_minor": 0
   }
  }
 },
 "nbformat": 4,
 "nbformat_minor": 4
}
